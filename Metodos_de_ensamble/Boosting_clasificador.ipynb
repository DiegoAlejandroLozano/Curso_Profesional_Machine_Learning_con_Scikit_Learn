{
 "cells": [
  {
   "cell_type": "code",
   "execution_count": 73,
   "metadata": {},
   "outputs": [],
   "source": [
    "#Importando las librerias necesarias\n",
    "from sklearn.model_selection import train_test_split\n",
    "from sklearn.datasets import make_classification\n",
    "from sklearn.metrics import confusion_matrix\n",
    "from sklearn.ensemble import GradientBoostingClassifier\n",
    "from sklearn.metrics import confusion_matrix\n",
    "\n",
    "from matplotlib import pyplot as plt"
   ]
  },
  {
   "cell_type": "code",
   "execution_count": 64,
   "metadata": {},
   "outputs": [],
   "source": [
    "#Generando los datos\n",
    "X1, y1 = make_classification(\n",
    "    n_samples=2000,\n",
    "    n_features=4,\n",
    "    n_informative=2,\n",
    "    n_redundant=0,\n",
    "    shuffle=False\n",
    ")"
   ]
  },
  {
   "cell_type": "code",
   "execution_count": 65,
   "metadata": {},
   "outputs": [],
   "source": [
    "#Diviendo los datos\n",
    "X1_train, X1_test, y1_train, y1_test = train_test_split(\n",
    "    X1, y1, test_size=0.30, random_state=0\n",
    ")"
   ]
  },
  {
   "cell_type": "code",
   "execution_count": 86,
   "metadata": {},
   "outputs": [],
   "source": [
    "#creando el modelo\n",
    "boosting_model1 = GradientBoostingClassifier(\n",
    "    n_estimators=132,\n",
    "    learning_rate=1.0,\n",
    "    max_depth=1,\n",
    "    random_state=0\n",
    ")"
   ]
  },
  {
   "cell_type": "code",
   "execution_count": 87,
   "metadata": {},
   "outputs": [],
   "source": [
    "#Entrenando el modelo\n",
    "boosting_model1=boosting_model1.fit(X1_train, y1_train)"
   ]
  },
  {
   "cell_type": "code",
   "execution_count": 93,
   "metadata": {},
   "outputs": [
    {
     "name": "stdout",
     "output_type": "stream",
     "text": [
      "la puntuacion es: 98.33%\n",
      "La matriz de confucion es:\n",
      "[[302   6]\n",
      " [  4 288]]\n"
     ]
    }
   ],
   "source": [
    "#Se inicia la evaluación del modelo\n",
    "matriz_confusion =confusion_matrix(\n",
    "    y_true=y1_test,\n",
    "    y_pred=boosting_model1.predict(X1_test)\n",
    ")\n",
    "\n",
    "puntuacion = boosting_model1.score(\n",
    "    X=X1_test,\n",
    "    y=y1_test\n",
    ")*100\n",
    "\n",
    "print('la puntuacion es: {:.2f}%'.format(puntuacion))\n",
    "print('La matriz de confucion es:\\n{}'.format(matriz_confusion))"
   ]
  },
  {
   "cell_type": "code",
   "execution_count": 82,
   "metadata": {},
   "outputs": [
    {
     "data": {
      "image/png": "[encoded data removed]",
      "text/plain": [
       "<Figure size 360x360 with 1 Axes>"
      ]
     },
     "metadata": {
      "needs_background": "light"
     },
     "output_type": "display_data"
    }
   ],
   "source": [
    "#Evaluando gráficamente el desempeño del algoritmo\n",
    "puntajes = {}\n",
    "for i in range(1,300):\n",
    "    #Crear el algoritmo\n",
    "    boosting_model1 = GradientBoostingClassifier(\n",
    "        n_estimators=i,\n",
    "        learning_rate=1.0,\n",
    "        max_depth=1,\n",
    "        random_state=0\n",
    "    )\n",
    "    #Entrenando el modelo\n",
    "    boosting_model1=boosting_model1.fit(X1_train, y1_train)\n",
    "    #Evaluar el algoritmo\n",
    "    puntajes[i] = boosting_model1.score(\n",
    "        X=X1_test,\n",
    "        y=y1_test\n",
    "    )\n",
    "\n",
    "#Se grafica los resultados\n",
    "plt.figure(figsize=(5,5))\n",
    "plt.plot(list(puntajes.keys()),list(puntajes.values()))\n",
    "plt.show()\n",
    "    "
   ]
  },
  {
   "cell_type": "code",
   "execution_count": 95,
   "metadata": {},
   "outputs": [
    {
     "name": "stdout",
     "output_type": "stream",
     "text": [
      "El estimador con mejor resultado es: 132\n"
     ]
    }
   ],
   "source": [
    "estimador = 0\n",
    "for key,value in puntajes.items():\n",
    "    if value == max(puntajes.values()):\n",
    "        estimador = key\n",
    "        break\n",
    "print('El estimador con mejor resultado es: {0}'.format(estimador))"
   ]
  }
 ],
 "metadata": {
  "kernelspec": {
   "display_name": "Python 3.9.13 64-bit (microsoft store)",
   "language": "python",
   "name": "python3"
  },
  "language_info": {
   "codemirror_mode": {
    "name": "ipython",
    "version": 3
   },
   "file_extension": ".py",
   "mimetype": "text/x-python",
   "name": "python",
   "nbconvert_exporter": "python",
   "pygments_lexer": "ipython3",
   "version": "3.9.13"
  },
  "orig_nbformat": 4,
  "vscode": {
   "interpreter": {
    "hash": "e5e6950e623d4582d624e135a1184e8efadbec668f85cbea1d2eb28257370c61"
   }
  }
 },
 "nbformat": 4,
 "nbformat_minor": 2
}
