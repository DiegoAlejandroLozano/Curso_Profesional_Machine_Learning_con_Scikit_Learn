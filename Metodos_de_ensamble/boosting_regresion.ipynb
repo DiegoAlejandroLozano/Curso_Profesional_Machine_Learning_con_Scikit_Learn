{
 "cells": [
  {
   "cell_type": "code",
   "execution_count": 15,
   "metadata": {},
   "outputs": [],
   "source": [
    "#Se importan las librerias necesarias\n",
    "from sklearn.datasets import make_regression\n",
    "from sklearn.ensemble import GradientBoostingRegressor\n",
    "from sklearn.model_selection import train_test_split\n",
    "from sklearn.metrics import r2_score\n",
    "from matplotlib import pyplot as plt"
   ]
  },
  {
   "cell_type": "markdown",
   "metadata": {},
   "source": [
    "Experimento 1"
   ]
  },
  {
   "cell_type": "code",
   "execution_count": 16,
   "metadata": {},
   "outputs": [],
   "source": [
    "#Se crean los datos\n",
    "X1, y1 = make_regression(\n",
    "    n_samples=2000,\n",
    "    random_state=0\n",
    ")"
   ]
  },
  {
   "cell_type": "code",
   "execution_count": 17,
   "metadata": {},
   "outputs": [],
   "source": [
    "#Se dividen los datos\n",
    "X1_train, X1_test, y1_train, y1_test = train_test_split(\n",
    "    X1, y1, test_size=0.30, random_state=0\n",
    ")"
   ]
  },
  {
   "cell_type": "code",
   "execution_count": 35,
   "metadata": {},
   "outputs": [],
   "source": [
    "#Creación del modelo\n",
    "modelo_reg1 = GradientBoostingRegressor(\n",
    "    n_estimators=200,\n",
    "    random_state=0\n",
    ")"
   ]
  },
  {
   "cell_type": "code",
   "execution_count": 36,
   "metadata": {},
   "outputs": [],
   "source": [
    "#Entrenando el modelo\n",
    "modelo_reg1=modelo_reg1.fit(X1_train, y1_train)"
   ]
  },
  {
   "cell_type": "code",
   "execution_count": 37,
   "metadata": {},
   "outputs": [
    {
     "data": {
      "text/plain": [
       "0.9436297259416307"
      ]
     },
     "execution_count": 37,
     "metadata": {},
     "output_type": "execute_result"
    }
   ],
   "source": [
    "#Evaluando el modelo\n",
    "r2_score(\n",
    "    y_true=y1_test,\n",
    "    y_pred=modelo_reg1.predict(X1_test)\n",
    ")"
   ]
  },
  {
   "cell_type": "code",
   "execution_count": 34,
   "metadata": {},
   "outputs": [
    {
     "data": {
      "image/png": "[encoded data removed]",
      "text/plain": [
       "<Figure size 360x360 with 1 Axes>"
      ]
     },
     "metadata": {
      "needs_background": "light"
     },
     "output_type": "display_data"
    },
    {
     "name": "stdout",
     "output_type": "stream",
     "text": [
      "El número de estimadores optimo es: 199\n"
     ]
    }
   ],
   "source": [
    "#Verificando gráficamente como afecta el parámetro n_estimadores el r2_score\n",
    "resultado = {}\n",
    "for i in range(1,200):\n",
    "    #Creando el modelo\n",
    "    modelo_reg1 = GradientBoostingRegressor(\n",
    "        n_estimators=i,\n",
    "        random_state=0\n",
    "    )\n",
    "    #Entrenando el modelo\n",
    "    modelo_reg1=modelo_reg1.fit(X1_train, y1_train)\n",
    "    #Evaluando el modelo\n",
    "    resultado[i] = r2_score(\n",
    "        y_true=y1_test,\n",
    "        y_pred=modelo_reg1.predict(X1_test)\n",
    "    )*100\n",
    "#Se gráfica el resultado\n",
    "plt.figure(figsize=(5,5))\n",
    "plt.plot(resultado.keys(), resultado.values())\n",
    "plt.grid()\n",
    "plt.show()\n",
    "#Se extrae el numero de estimadores más optimo\n",
    "estimador_optimo = 1\n",
    "for clave, valor in resultado.items():\n",
    "    if valor == max(resultado.values()):\n",
    "        estimador_optimo = clave\n",
    "        break\n",
    "print('El número de estimadores optimo es: {}'.format(estimador_optimo))"
   ]
  }
 ],
 "metadata": {
  "kernelspec": {
   "display_name": "Python 3.9.13 64-bit (microsoft store)",
   "language": "python",
   "name": "python3"
  },
  "language_info": {
   "codemirror_mode": {
    "name": "ipython",
    "version": 3
   },
   "file_extension": ".py",
   "mimetype": "text/x-python",
   "name": "python",
   "nbconvert_exporter": "python",
   "pygments_lexer": "ipython3",
   "version": "3.9.13"
  },
  "orig_nbformat": 4,
  "vscode": {
   "interpreter": {
    "hash": "e5e6950e623d4582d624e135a1184e8efadbec668f85cbea1d2eb28257370c61"
   }
  }
 },
 "nbformat": 4,
 "nbformat_minor": 2
}
