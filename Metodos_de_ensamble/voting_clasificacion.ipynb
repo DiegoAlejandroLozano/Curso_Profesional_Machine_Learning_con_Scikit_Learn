{
 "cells": [
  {
   "cell_type": "code",
   "execution_count": 25,
   "metadata": {},
   "outputs": [],
   "source": [
    "#Importación de las librerias necesarias\n",
    "import numpy as np\n",
    "\n",
    "from sklearn.linear_model import LogisticRegression\n",
    "from sklearn.naive_bayes import GaussianNB\n",
    "from sklearn.ensemble import RandomForestClassifier, VotingClassifier\n",
    "from sklearn.model_selection import train_test_split\n",
    "\n",
    "from sklearn.metrics import confusion_matrix"
   ]
  },
  {
   "cell_type": "markdown",
   "metadata": {},
   "source": [
    "Experimento 1"
   ]
  },
  {
   "cell_type": "code",
   "execution_count": 26,
   "metadata": {},
   "outputs": [],
   "source": [
    "#Creando los datos\n",
    "X = np.array([\n",
    "    [-1,-1,],\n",
    "    [-2,-1],\n",
    "    [-3,-2],\n",
    "    [1,1],\n",
    "    [2,1],\n",
    "    [3,1]\n",
    "])\n",
    "y= np.array([1,1,1,2,2,2])"
   ]
  },
  {
   "cell_type": "code",
   "execution_count": 27,
   "metadata": {},
   "outputs": [],
   "source": [
    "#Creación de los modelos\n",
    "clf1 = LogisticRegression(multi_class='multinomial', random_state=1, solver='lbfgs')\n",
    "clf2 = RandomForestClassifier(n_estimators=50, random_state=1)\n",
    "clf3 = GaussianNB()\n",
    "\n",
    "#Creando el ensamblador\n",
    "estimadores = [\n",
    "    ('clf1', clf1),\n",
    "    ('clf2', clf2),\n",
    "    ('clf3', clf3)\n",
    "]\n",
    "modelo_ensamblado = VotingClassifier(estimators=estimadores, voting='hard')\n",
    "modelo_ensamblado = modelo_ensamblado.fit(X, y)\n",
    "y_pred = modelo_ensamblado.predict(X)"
   ]
  },
  {
   "cell_type": "code",
   "execution_count": 28,
   "metadata": {},
   "outputs": [
    {
     "data": {
      "text/plain": [
       "array([[3, 0],\n",
       "       [0, 3]], dtype=int64)"
      ]
     },
     "execution_count": 28,
     "metadata": {},
     "output_type": "execute_result"
    }
   ],
   "source": [
    "#Verificando las predicciones\n",
    "confusion_matrix(y, y_pred)"
   ]
  },
  {
   "cell_type": "markdown",
   "metadata": {},
   "source": [
    "Experimento 2"
   ]
  },
  {
   "cell_type": "code",
   "execution_count": 29,
   "metadata": {},
   "outputs": [],
   "source": [
    "#Creando los datos para el segundo experimento\n",
    "X2 = np.random.random((2000,2))*100\n",
    "y2 = np.random.randint(2, size=2000)"
   ]
  },
  {
   "cell_type": "code",
   "execution_count": 30,
   "metadata": {},
   "outputs": [],
   "source": [
    "X2_train, X2_test, y2_train, y2_test = train_test_split(\n",
    "    X2, y2, test_size=0.30\n",
    ")"
   ]
  },
  {
   "cell_type": "code",
   "execution_count": 37,
   "metadata": {},
   "outputs": [],
   "source": [
    "#Creando de nuevo el modelo\n",
    "clf1_2 = LogisticRegression(random_state=1, solver='lbfgs')\n",
    "clf2_2 = RandomForestClassifier(n_estimators=5, random_state=1)\n",
    "clf3_2 = GaussianNB()\n",
    "\n",
    "#Creando el ensamblador\n",
    "estimadores = [\n",
    "    ('clf1_2', clf1_2),\n",
    "    ('clf2_2', clf2_2),\n",
    "    ('clf3_2', clf3_2)\n",
    "]\n",
    "modelo_ensamblado_2 = VotingClassifier(estimators=estimadores, voting='soft')\n",
    "modelo_ensamblado_2 = modelo_ensamblado_2.fit(X2_train, y2_train) #Se realiza el entrenamiento del modelo "
   ]
  },
  {
   "cell_type": "code",
   "execution_count": 38,
   "metadata": {},
   "outputs": [
    {
     "data": {
      "text/plain": [
       "array([[156, 127],\n",
       "       [164, 153]], dtype=int64)"
      ]
     },
     "execution_count": 38,
     "metadata": {},
     "output_type": "execute_result"
    }
   ],
   "source": [
    "#Verificando las predicciones\n",
    "y2_pred = modelo_ensamblado_2.predict(X2_test)\n",
    "confusion_matrix(y2_test, y2_pred)"
   ]
  }
 ],
 "metadata": {
  "kernelspec": {
   "display_name": "Python 3.9.13 64-bit (microsoft store)",
   "language": "python",
   "name": "python3"
  },
  "language_info": {
   "codemirror_mode": {
    "name": "ipython",
    "version": 3
   },
   "file_extension": ".py",
   "mimetype": "text/x-python",
   "name": "python",
   "nbconvert_exporter": "python",
   "pygments_lexer": "ipython3",
   "version": "3.9.13"
  },
  "orig_nbformat": 4,
  "vscode": {
   "interpreter": {
    "hash": "e5e6950e623d4582d624e135a1184e8efadbec668f85cbea1d2eb28257370c61"
   }
  }
 },
 "nbformat": 4,
 "nbformat_minor": 2
}
